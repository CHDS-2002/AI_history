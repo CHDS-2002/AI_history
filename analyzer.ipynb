{
  "nbformat": 4,
  "nbformat_minor": 0,
  "metadata": {
    "colab": {
      "provenance": [],
      "authorship_tag": "ABX9TyNtRu93j1bwMm+wWEAvQS4z",
      "include_colab_link": true
    },
    "kernelspec": {
      "name": "python3",
      "display_name": "Python 3"
    },
    "language_info": {
      "name": "python"
    }
  },
  "cells": [
    {
      "cell_type": "markdown",
      "metadata": {
        "id": "view-in-github",
        "colab_type": "text"
      },
      "source": [
        "<a href=\"https://colab.research.google.com/github/CHDS-2002/AI_history/blob/main/analyzer.ipynb\" target=\"_parent\"><img src=\"https://colab.research.google.com/assets/colab-badge.svg\" alt=\"Open In Colab\"/></a>"
      ]
    },
    {
      "cell_type": "markdown",
      "source": [
        "# Анализатор Price-листов"
      ],
      "metadata": {
        "id": "r6JVbkGtg7mW"
      }
    },
    {
      "cell_type": "code",
      "execution_count": null,
      "metadata": {
        "colab": {
          "base_uri": "https://localhost:8080/",
          "height": 351
        },
        "id": "6xoI_gcBgWBW",
        "outputId": "4be8c677-8b49-4aa3-ca8d-3a4d2bf7f29d"
      },
      "outputs": [
        {
          "output_type": "error",
          "ename": "FileNotFoundError",
          "evalue": "[Errno 2] No such file or directory: 'prices_folder'",
          "traceback": [
            "\u001b[0;31m---------------------------------------------------------------------------\u001b[0m",
            "\u001b[0;31mFileNotFoundError\u001b[0m                         Traceback (most recent call last)",
            "\u001b[0;32m<ipython-input-1-926a7f22c324>\u001b[0m in \u001b[0;36m<cell line: 0>\u001b[0;34m()\u001b[0m\n\u001b[1;32m     79\u001b[0m \u001b[0;32mif\u001b[0m \u001b[0m__name__\u001b[0m \u001b[0;34m==\u001b[0m \u001b[0;34m\"__main__\"\u001b[0m\u001b[0;34m:\u001b[0m\u001b[0;34m\u001b[0m\u001b[0;34m\u001b[0m\u001b[0m\n\u001b[1;32m     80\u001b[0m     \u001b[0manalyzer\u001b[0m \u001b[0;34m=\u001b[0m \u001b[0mPriceAnalyzer\u001b[0m\u001b[0;34m(\u001b[0m\u001b[0;34m)\u001b[0m\u001b[0;34m\u001b[0m\u001b[0;34m\u001b[0m\u001b[0m\n\u001b[0;32m---> 81\u001b[0;31m     \u001b[0manalyzer\u001b[0m\u001b[0;34m.\u001b[0m\u001b[0mload_prices\u001b[0m\u001b[0;34m(\u001b[0m\u001b[0;34m\"prices_folder\"\u001b[0m\u001b[0;34m)\u001b[0m  \u001b[0;31m# Указываем путь к папке с прайс-листами\u001b[0m\u001b[0;34m\u001b[0m\u001b[0;34m\u001b[0m\u001b[0m\n\u001b[0m\u001b[1;32m     82\u001b[0m \u001b[0;34m\u001b[0m\u001b[0m\n\u001b[1;32m     83\u001b[0m     \u001b[0;32mwhile\u001b[0m \u001b[0;32mTrue\u001b[0m\u001b[0;34m:\u001b[0m\u001b[0;34m\u001b[0m\u001b[0;34m\u001b[0m\u001b[0m\n",
            "\u001b[0;32m<ipython-input-1-926a7f22c324>\u001b[0m in \u001b[0;36mload_prices\u001b[0;34m(self, folder_path)\u001b[0m\n\u001b[1;32m     11\u001b[0m     \u001b[0;32mdef\u001b[0m \u001b[0mload_prices\u001b[0m\u001b[0;34m(\u001b[0m\u001b[0mself\u001b[0m\u001b[0;34m,\u001b[0m \u001b[0mfolder_path\u001b[0m\u001b[0;34m:\u001b[0m \u001b[0mstr\u001b[0m\u001b[0;34m)\u001b[0m \u001b[0;34m->\u001b[0m \u001b[0;32mNone\u001b[0m\u001b[0;34m:\u001b[0m\u001b[0;34m\u001b[0m\u001b[0;34m\u001b[0m\u001b[0m\n\u001b[1;32m     12\u001b[0m         \u001b[0;34m\"\"\"Загрузка данных из прайс-листов.\"\"\"\u001b[0m\u001b[0;34m\u001b[0m\u001b[0;34m\u001b[0m\u001b[0m\n\u001b[0;32m---> 13\u001b[0;31m         \u001b[0;32mfor\u001b[0m \u001b[0mfile\u001b[0m \u001b[0;32min\u001b[0m \u001b[0mos\u001b[0m\u001b[0;34m.\u001b[0m\u001b[0mlistdir\u001b[0m\u001b[0;34m(\u001b[0m\u001b[0mfolder_path\u001b[0m\u001b[0;34m)\u001b[0m\u001b[0;34m:\u001b[0m\u001b[0;34m\u001b[0m\u001b[0;34m\u001b[0m\u001b[0m\n\u001b[0m\u001b[1;32m     14\u001b[0m             \u001b[0;32mif\u001b[0m \u001b[0;34m'price'\u001b[0m \u001b[0;32mnot\u001b[0m \u001b[0;32min\u001b[0m \u001b[0mfile\u001b[0m\u001b[0;34m.\u001b[0m\u001b[0mlower\u001b[0m\u001b[0;34m(\u001b[0m\u001b[0;34m)\u001b[0m\u001b[0;34m:\u001b[0m\u001b[0;34m\u001b[0m\u001b[0;34m\u001b[0m\u001b[0m\n\u001b[1;32m     15\u001b[0m                 \u001b[0;32mcontinue\u001b[0m\u001b[0;34m\u001b[0m\u001b[0;34m\u001b[0m\u001b[0m\n",
            "\u001b[0;31mFileNotFoundError\u001b[0m: [Errno 2] No such file or directory: 'prices_folder'"
          ]
        }
      ],
      "source": [
        "import os\n",
        "import re\n",
        "import csv\n",
        "from google.colab import drive\n",
        "from typing import List, Dict, Tuple\n",
        "\n",
        "\n",
        "class PriceAnalyzer:\n",
        "    def __init__(self):\n",
        "        self.data = []\n",
        "\n",
        "    def load_prices(self, folder_path: str) -> None:\n",
        "        \"\"\"Загрузка данных из прайс-листов.\"\"\"\n",
        "        for file in os.listdir(folder_path):\n",
        "            if 'price' not in file.lower():\n",
        "                continue\n",
        "\n",
        "            with open(os.path.join(folder_path, file), encoding='utf-8') as f:\n",
        "                reader = csv.DictReader(f)\n",
        "                rows = list(reader)\n",
        "\n",
        "                # Определяем индексы нужных столбцов\n",
        "                columns = next(iter(rows.values()))\n",
        "                product_index = self._get_column_index(columns, ['название', 'продукт', 'товар', 'наименование'])\n",
        "                price_index = self._get_column_index(columns, ['цена', 'розница'])\n",
        "                weight_index = self._get_column_index(columns, ['фасовка', 'масса', 'вес'])\n",
        "\n",
        "                if any(index is None for index in [product_index, price_index, weight_index]):\n",
        "                    print(f\"В файле {file} отсутствуют нужные столбцы.\")\n",
        "                    continue\n",
        "\n",
        "                for row in rows:\n",
        "                    try:\n",
        "                        product_name = row[columns[product_index]]\n",
        "                        price = float(row[columns[price_index]])\n",
        "                        weight = float(row[columns[weight_index]])\n",
        "\n",
        "                        self.data.append({\n",
        "                            'name': product_name,\n",
        "                            'price': price,\n",
        "                            'weight': weight,\n",
        "                            'file': file,\n",
        "                            'price_per_kg': round(price / weight, 2),\n",
        "                        })\n",
        "                    except ValueError:\n",
        "                        print(f\"Ошибка преобразования данных в строке файла {file}.\")\n",
        "\n",
        "    @staticmethod\n",
        "    def _get_column_index(columns: List[str], possible_names: List[str]) -> int:\n",
        "        \"\"\"Поиск индекса нужного столбца.\"\"\"\n",
        "        for i, column in enumerate(columns):\n",
        "            if column.lower() in possible_names:\n",
        "                return i\n",
        "        return None\n",
        "\n",
        "    def find_text(self, search_text: str) -> List[Dict]:\n",
        "        \"\"\"Поиск товаров по фрагменту названия.\"\"\"\n",
        "        results = []\n",
        "        for item in self.data:\n",
        "            if search_text.lower() in item['name'].lower():\n",
        "                results.append(item)\n",
        "\n",
        "        # Сортировка по цене за килограмм\n",
        "        sorted_results = sorted(results, key=lambda x: x['price_per_kg'])\n",
        "\n",
        "        return sorted_results\n",
        "\n",
        "    def export_to_html(self, filename: str) -> None:\n",
        "        \"\"\"Экспорт данных в HTML-файл.\"\"\"\n",
        "        with open(filename, 'w', encoding='utf-8') as f:\n",
        "            f.write('<html><body><table border=\"1\">')\n",
        "            f.write('<tr><th>№</th><th>Наименование</th><th>Цена</th><th>Вес</th><th>Файл</th><th>Цена за кг.</th></tr>')\n",
        "\n",
        "            for i, item in enumerate(self.data):\n",
        "                f.write(f'<tr><td>{i + 1}</td><td>{item[\"name\"]}</td><td>{item[\"price\"]:.2f}</td>'\n",
        "                        f'<td>{item[\"weight\"]:.2f}</td><td>{item[\"file\"]}</td><td>{item[\"price_per_kg\"]:.2f}</td></tr>')\n",
        "\n",
        "            f.write('</table></body></html>')\n",
        "\n",
        "if __name__ == \"__main__\":\n",
        "    analyzer = PriceAnalyzer()\n",
        "    analyzer.load_prices(\"prices_folder\")  # Указываем путь к папке с прайс-листами\n",
        "\n",
        "    while True:\n",
        "        user_input = input(\"Введите фрагмент названия товара для поиска или 'exit' для завершения: \")\n",
        "        if user_input.lower() == 'exit':\n",
        "            print(\"Работа завершена.\")\n",
        "            break\n",
        "\n",
        "        results = analyzer.find_text(user_input)\n",
        "\n",
        "        if len(results) > 0:\n",
        "            print(\"\\nРезультаты поиска:\")\n",
        "            print(f\"{'№':<3}{'Наименование':<30}{'цена':<10}{'вес':<10}{'файл':<20}{'цена за кг.':<15}\")\n",
        "            for i, result in enumerate(results):\n",
        "                print(f\"{i+1:<3}{result['name'][:30]:<30}{result['price']:<10.2f}{result['weight']:<10.2f}\"\n",
        "                      f\"{result['file']:<20}{result['price_per_kg']:<15.2f}\")\n",
        "        else:\n",
        "            print(\"Товар не найден.\")"
      ]
    },
    {
      "cell_type": "markdown",
      "source": [
        "# Загрузка файлов"
      ],
      "metadata": {
        "id": "IeCwvexEdGS6"
      }
    },
    {
      "cell_type": "code",
      "source": [],
      "metadata": {
        "id": "x-z-fSm3dFfF"
      },
      "execution_count": null,
      "outputs": []
    },
    {
      "cell_type": "markdown",
      "source": [
        "# Анализатор Price-листов"
      ],
      "metadata": {
        "id": "FF8NhkdlNC6m"
      }
    },
    {
      "cell_type": "code",
      "source": [
        "import os\n",
        "import re\n",
        "import pandas as pd\n",
        "from google.colab import drive\n",
        "from typing import List, Dict, Tuple\n",
        "from scipy.optimize import minimize_scalar\n",
        "\n",
        "class PriceAnalyzer:\n",
        "    def __init__(self):\n",
        "        self.data = []\n",
        "\n",
        "    def load_prices(self, folder_path: str) -> None:\n",
        "        \"\"\"Загрузка данных из прайс-листов.\"\"\"\n",
        "        files = [file for file in os.listdir(folder_path) if 'price' in file.lower()]\n",
        "\n",
        "        for file in files:\n",
        "            df = pd.read_csv(os.path.join(folder_path, file))\n",
        "\n",
        "            # Определяем индексы нужных столбцов\n",
        "            product_columns = ['название', 'продукт', 'товар', 'наименование']\n",
        "            price_columns = ['цена', 'розница']\n",
        "            weight_columns = ['фасовка', 'масса', 'вес']\n",
        "\n",
        "            product_index = self._get_column_index(df.columns, product_columns)\n",
        "            price_index = self._get_column_index(df.columns, price_columns)\n",
        "            weight_index = self._get_column_index(df.columns, weight_columns)\n",
        "\n",
        "            if any([index is None for index in [product_index, price_index, weight_index]]):\n",
        "                print(f\"В файле {file} отсутствуют нужные столбцы.\")\n",
        "                continue\n",
        "\n",
        "            product_col = df.iloc[:, product_index]\n",
        "            price_col = df.iloc[:, price_index].astype(float)\n",
        "            weight_col = df.iloc[:, weight_index].astype(float)\n",
        "\n",
        "            price_per_kg = price_col / weight_col\n",
        "\n",
        "            self.data.extend([\n",
        "                {\n",
        "                    'name': product,\n",
        "                    'price': price,\n",
        "                    'weight': weight,\n",
        "                    'file': file,\n",
        "                    'price_per_kg': price_per_kg\n",
        "                }\n",
        "                for product, price, weight, price_per_kg in zip(product_col, price_col, weight_col, price_per_kg)\n",
        "            ])\n",
        "\n",
        "    @staticmethod\n",
        "    def _get_column_index(columns: List[str], possible_names: List[str]) -> int:\n",
        "        \"\"\"Поиск индекса нужного столбца.\"\"\"\n",
        "        for i, column in enumerate(columns):\n",
        "            if column.lower() in possible_names:\n",
        "                return i\n",
        "        return None\n",
        "\n",
        "    def find_text(self, search_text: str) -> List[Dict]:\n",
        "        \"\"\"Поиск товаров по фрагменту названия.\"\"\"\n",
        "        results = [\n",
        "            item for item in self.data\n",
        "            if search_text.lower() in item['name'].lower()\n",
        "        ]\n",
        "\n",
        "        # Оптимизация цены за килограмм\n",
        "        optimized_results = self._optimize_price_per_kg(results)\n",
        "\n",
        "        return optimized_results\n",
        "\n",
        "    def _optimize_price_per_kg(self, items: List[Dict]) -> List[Dict]:\n",
        "        \"\"\"Оптимизация цены за килограмм.\"\"\"\n",
        "        def objective_function(weight):\n",
        "            total_cost = sum([item['price'] * weight for item in items])\n",
        "            total_weight = sum([item['weight'] * weight for item in items])\n",
        "            return total_cost / total_weight\n",
        "\n",
        "        res = minimize_scalar(objective_function, bounds=(0, 1), method='bounded')\n",
        "        optimal_weight = res.x\n",
        "\n",
        "        optimized_items = [\n",
        "            {\n",
        "                'name': item['name'],\n",
        "                'price': item['price'] * optimal_weight,\n",
        "                'weight': item['weight'] * optimal_weight,\n",
        "                'file': item['file'],\n",
        "                'price_per_kg': item['price_per_kg'] * optimal_weight\n",
        "            }\n",
        "            for item in items\n",
        "        ]\n",
        "\n",
        "        return sorted(optimized_items, key=lambda x: x['price_per_kg'])\n",
        "\n",
        "    def export_to_html(self, filename: str) -> None:\n",
        "        \"\"\"Экспорт данных в HTML-файл.\"\"\"\n",
        "        df = pd.DataFrame(self.data)\n",
        "        df.to_html(filename, index=False)\n",
        "\n",
        "if __name__ == \"__main__\":\n",
        "    PATH = f\"analyzer\\\\Анализатор price-листов\"\n",
        "    analyzer = PriceAnalyzer()\n",
        "    analyzer.load_prices(PATH) # Указываем путь к папке с price-листами\n",
        "\n",
        "    while True:\n",
        "        user_input = input(\"Введите фрагмент названия товара для поиска или 'exit' для завершения: \")\n",
        "        if user_input.lower() == 'exit':\n",
        "            print(\"Работа завершена.\")\n",
        "            break\n",
        "\n",
        "        results = analyzer.find_text(user_input)\n",
        "\n",
        "        if len(results) > 0:\n",
        "            print(\"\\nРезультаты поиска:\")\n",
        "            print(f\"{'№':<3}{'Наименование':<30}{'цена':<10}{'вес':<10}{'файл':<20}{'цена за кг.':<15}\")\n",
        "            for i, result in enumerate(results):\n",
        "                print(f\"{i+1:<3}{result['name'][:30]:<30}{result['price']:<10.2f}{result['weight']:<10.2f}\"\n",
        "                      f\"{result['file']:<20}{result['price_per_kg']:<15.2f}\")\n",
        "        else:\n",
        "            print(\"Товар не найден.\")"
      ],
      "metadata": {
        "colab": {
          "base_uri": "https://localhost:8080/",
          "height": 351
        },
        "id": "2E5aHw_4NEgg",
        "outputId": "27861ef3-277d-470e-c8b3-8cb7235936f4"
      },
      "execution_count": null,
      "outputs": [
        {
          "output_type": "error",
          "ename": "FileNotFoundError",
          "evalue": "[Errno 2] No such file or directory: 'prices_folder'",
          "traceback": [
            "\u001b[0;31m---------------------------------------------------------------------------\u001b[0m",
            "\u001b[0;31mFileNotFoundError\u001b[0m                         Traceback (most recent call last)",
            "\u001b[0;32m<ipython-input-3-1859661c482a>\u001b[0m in \u001b[0;36m<cell line: 0>\u001b[0;34m()\u001b[0m\n\u001b[1;32m     96\u001b[0m \u001b[0;32mif\u001b[0m \u001b[0m__name__\u001b[0m \u001b[0;34m==\u001b[0m \u001b[0;34m\"__main__\"\u001b[0m\u001b[0;34m:\u001b[0m\u001b[0;34m\u001b[0m\u001b[0;34m\u001b[0m\u001b[0m\n\u001b[1;32m     97\u001b[0m     \u001b[0manalyzer\u001b[0m \u001b[0;34m=\u001b[0m \u001b[0mPriceAnalyzer\u001b[0m\u001b[0;34m(\u001b[0m\u001b[0;34m)\u001b[0m\u001b[0;34m\u001b[0m\u001b[0;34m\u001b[0m\u001b[0m\n\u001b[0;32m---> 98\u001b[0;31m     \u001b[0manalyzer\u001b[0m\u001b[0;34m.\u001b[0m\u001b[0mload_prices\u001b[0m\u001b[0;34m(\u001b[0m\u001b[0;34m\"prices_folder\"\u001b[0m\u001b[0;34m)\u001b[0m \u001b[0;31m# Указываем путь к папке с price-листами\u001b[0m\u001b[0;34m\u001b[0m\u001b[0;34m\u001b[0m\u001b[0m\n\u001b[0m\u001b[1;32m     99\u001b[0m \u001b[0;34m\u001b[0m\u001b[0m\n\u001b[1;32m    100\u001b[0m     \u001b[0;32mwhile\u001b[0m \u001b[0;32mTrue\u001b[0m\u001b[0;34m:\u001b[0m\u001b[0;34m\u001b[0m\u001b[0;34m\u001b[0m\u001b[0m\n",
            "\u001b[0;32m<ipython-input-3-1859661c482a>\u001b[0m in \u001b[0;36mload_prices\u001b[0;34m(self, folder_path)\u001b[0m\n\u001b[1;32m     11\u001b[0m     \u001b[0;32mdef\u001b[0m \u001b[0mload_prices\u001b[0m\u001b[0;34m(\u001b[0m\u001b[0mself\u001b[0m\u001b[0;34m,\u001b[0m \u001b[0mfolder_path\u001b[0m\u001b[0;34m:\u001b[0m \u001b[0mstr\u001b[0m\u001b[0;34m)\u001b[0m \u001b[0;34m->\u001b[0m \u001b[0;32mNone\u001b[0m\u001b[0;34m:\u001b[0m\u001b[0;34m\u001b[0m\u001b[0;34m\u001b[0m\u001b[0m\n\u001b[1;32m     12\u001b[0m         \u001b[0;34m\"\"\"Загрузка данных из прайс-листов.\"\"\"\u001b[0m\u001b[0;34m\u001b[0m\u001b[0;34m\u001b[0m\u001b[0m\n\u001b[0;32m---> 13\u001b[0;31m         \u001b[0mfiles\u001b[0m \u001b[0;34m=\u001b[0m \u001b[0;34m[\u001b[0m\u001b[0mfile\u001b[0m \u001b[0;32mfor\u001b[0m \u001b[0mfile\u001b[0m \u001b[0;32min\u001b[0m \u001b[0mos\u001b[0m\u001b[0;34m.\u001b[0m\u001b[0mlistdir\u001b[0m\u001b[0;34m(\u001b[0m\u001b[0mfolder_path\u001b[0m\u001b[0;34m)\u001b[0m \u001b[0;32mif\u001b[0m \u001b[0;34m'price'\u001b[0m \u001b[0;32min\u001b[0m \u001b[0mfile\u001b[0m\u001b[0;34m.\u001b[0m\u001b[0mlower\u001b[0m\u001b[0;34m(\u001b[0m\u001b[0;34m)\u001b[0m\u001b[0;34m]\u001b[0m\u001b[0;34m\u001b[0m\u001b[0;34m\u001b[0m\u001b[0m\n\u001b[0m\u001b[1;32m     14\u001b[0m \u001b[0;34m\u001b[0m\u001b[0m\n\u001b[1;32m     15\u001b[0m         \u001b[0;32mfor\u001b[0m \u001b[0mfile\u001b[0m \u001b[0;32min\u001b[0m \u001b[0mfiles\u001b[0m\u001b[0;34m:\u001b[0m\u001b[0;34m\u001b[0m\u001b[0;34m\u001b[0m\u001b[0m\n",
            "\u001b[0;31mFileNotFoundError\u001b[0m: [Errno 2] No such file or directory: 'prices_folder'"
          ]
        }
      ]
    }
  ]
}